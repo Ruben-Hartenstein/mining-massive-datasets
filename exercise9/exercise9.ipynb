{
 "cells": [
  {
   "cell_type": "markdown",
   "metadata": {},
   "source": [
    "# Mining Massive Datasets Problem Set 9\n",
    "\n",
    "Ruben Hartenstein, Taha Erkoc"
   ]
  },
  {
   "cell_type": "markdown",
   "metadata": {},
   "source": [
    "# Exercise 2"
   ]
  },
  {
   "cell_type": "markdown",
   "metadata": {},
   "source": [
    "### a)\n",
    "\n",
    "In a clique, every node is connected to every other node which means that all nodes have the same in- and out-degree. Thus each node contributes and receives the same fraction of its PageRank. This symmetric structure allows for the flow of the PageRank to be uniform across all nodes in the clique.\n",
    "\n",
    "### b)\n",
    "\n",
    "The general form of matrix A is as follows:\n",
    "\n",
    "$A = \\beta * M + (1-\\beta) * [\\frac{1}{N}]_{NXN}$\n",
    "\n",
    "When a node is a dead-end (has no outgoing links), its corresponding column in $M$ contains all zeros. To make $M$ a valid stochastic matrix, we replace the entire column of the dead-end nodes with $1/N$, saying there is a uniform probability to any other node. Doing this our matrix $M$ remains column-stochastic (each column sums up to $1$) and random teleport links are followed with a probability $1.0$ from dead-ends.\n",
    "\n",
    "With this approach, the teleportation is already incorperated in our new matrix $M$ and our teleportation matrix $(1-\\beta) * [\\frac{1}{N}]_{NXN}$ no longer needs to adress the dead-end issue. It only serves as a random jump mechanism across all nodes.\n",
    "\n",
    "### c) (in the PDF)\n",
    "\n",
    "\n",
    "### d)\n",
    "\n",
    "With random teleports we give the surfer a probability of $1 - \\beta$ of jumping to a random page outside the spider trap rather than following links within the trap. This prevents the pagerank score from being permanently trapped.\n",
    "\n",
    "For Dead-ends, with random teleports a surfer at a dead-end is assumed to teleport to any other page in the graph with an equal probability of $1/N$. For our formula this means that we replace the dead-end column in $M$ with uniform probabilities $1/N$, restoring the column-stochastic property. This ensures our matrix $M$ remanins valid for the PageRank calculation the algorithm converges to a meaningful result regardless of the graph structure."
   ]
  },
  {
   "cell_type": "markdown",
   "metadata": {},
   "source": [
    "# Exercise 3"
   ]
  },
  {
   "cell_type": "code",
   "execution_count": 10,
   "metadata": {},
   "outputs": [],
   "source": [
    "import numpy as np\n",
    "\n",
    "def pagerank(M, beta, epsilon):\n",
    "    \"\"\"\n",
    "    Compute the PageRank vector using the Google formulation and the Power Iteration method.\n",
    "\n",
    "    Parameters:\n",
    "        M (numpy.ndarray): The dense adjacency matrix of the graph (column-stochastic).\n",
    "        beta (float): The teleportation factor.\n",
    "        epsilon (float): The convergence threshold.\n",
    "\n",
    "    Returns:\n",
    "        numpy.ndarray: The PageRank vector.\n",
    "    \"\"\"\n",
    "    # Number of nodes in the graph\n",
    "    N = M.shape[0]\n",
    "\n",
    "    # Compute the Google Matrix A\n",
    "    teleportation_matrix = np.ones((N, N)) / N  # Dense matrix with all entries 1/N\n",
    "    A = beta * M + (1 - beta) * teleportation_matrix\n",
    "\n",
    "    # Initialize the PageRank vector (uniform distribution)\n",
    "    r = np.ones(N) / N\n",
    "\n",
    "    # Power Iteration Method\n",
    "    while True:\n",
    "        r_new = A @ r  # Matrix-vector multiplication\n",
    "        # Check for convergence using L1 norm\n",
    "        if np.linalg.norm(r_new - r, 1) < epsilon:\n",
    "            break\n",
    "        r = r_new\n",
    "\n",
    "    return r"
   ]
  },
  {
   "cell_type": "code",
   "execution_count": 11,
   "metadata": {},
   "outputs": [
    {
     "name": "stdout",
     "output_type": "stream",
     "text": [
      "PageRank Vector: [0.23148148 0.31481481 0.4537037 ]\n"
     ]
    }
   ],
   "source": [
    "# Example matrix from exercise 1\n",
    "M = np.array([\n",
    "    [1/3, 1/2, 0],\n",
    "    [1/3, 0, 1/2],\n",
    "    [1/3, 1/2, 1/2]\n",
    "])\n",
    "\n",
    "# Parameters\n",
    "beta = 1  # Teleportation factor\n",
    "epsilon = 1/12  # Convergence threshold\n",
    "\n",
    "# Compute PageRank\n",
    "pagerank_vector = pagerank(M, beta, epsilon)\n",
    "print(\"PageRank Vector:\", pagerank_vector)"
   ]
  },
  {
   "cell_type": "code",
   "execution_count": 12,
   "metadata": {},
   "outputs": [],
   "source": [
    "def generate_clique_matrix(n):\n",
    "    \"\"\"\n",
    "    Generate the column-stochastic adjacency matrix for a clique graph with n vertices.\n",
    "\n",
    "    Parameters:\n",
    "        n (int): Number of vertices in the clique.\n",
    "\n",
    "    Returns:\n",
    "        numpy.ndarray: Column-stochastic adjacency matrix for the clique.\n",
    "    \"\"\"\n",
    "    M = np.ones((n, n))  # Fully connected graph (all entries are 1)\n",
    "    np.fill_diagonal(M, 0)  # Remove self-loops\n",
    "    M /= M.sum(axis=0)  # Normalize to make it column-stochastic\n",
    "    return M"
   ]
  },
  {
   "cell_type": "code",
   "execution_count": 13,
   "metadata": {},
   "outputs": [
    {
     "name": "stdout",
     "output_type": "stream",
     "text": [
      "PageRank Vector for M(4): [0.25 0.25 0.25 0.25]\n",
      "PageRank Vector for M(6): [0.16666667 0.16666667 0.16666667 0.16666667 0.16666667 0.16666667]\n"
     ]
    }
   ],
   "source": [
    "# Generate M(4) and M(6)\n",
    "M4 = generate_clique_matrix(4)\n",
    "M6 = generate_clique_matrix(6)\n",
    "\n",
    "# Compute PageRank vectors\n",
    "pagerank_M4 = pagerank(M4, beta, epsilon)\n",
    "pagerank_M6 = pagerank(M6, beta, epsilon)\n",
    "\n",
    "print(\"PageRank Vector for M(4):\", pagerank_M4)\n",
    "print(\"PageRank Vector for M(6):\", pagerank_M6)"
   ]
  },
  {
   "cell_type": "markdown",
   "metadata": {},
   "source": [
    "# Exercise 4"
   ]
  },
  {
   "cell_type": "code",
   "execution_count": 14,
   "metadata": {},
   "outputs": [
    {
     "name": "stdout",
     "output_type": "stream",
     "text": [
      "ey\n"
     ]
    }
   ],
   "source": [
    "print(\"ey\")"
   ]
  },
  {
   "cell_type": "markdown",
   "metadata": {},
   "source": [
    "# Exercise 5"
   ]
  },
  {
   "cell_type": "code",
   "execution_count": 14,
   "metadata": {},
   "outputs": [
    {
     "name": "stdout",
     "output_type": "stream",
     "text": [
      "[1234, 2345, 3456, 4567]\n"
     ]
    }
   ],
   "source": [
    "def compute_k_shingles(digits, k):\n",
    "    # Set to store unique positions\n",
    "    positions = set()\n",
    "\n",
    "    # Iterate over the digits\n",
    "    for i in range(len(digits) - k + 1):\n",
    "        # Get k-shingle at current position\n",
    "        shingle = digits[i:i+k]\n",
    "        # Convert to integer and add to set\n",
    "        positions.add(int(shingle))\n",
    "\n",
    "    # Return ordered list of unique positions\n",
    "    return sorted(positions)\n",
    "\n",
    "# Test function with example\n",
    "test_example = \"1234567\"\n",
    "k = 4\n",
    "shingles = compute_k_shingles(test_example, k)\n",
    "print(shingles)  # Expected: [1234, 2345, 3456, 4567]"
   ]
  },
  {
   "cell_type": "markdown",
   "metadata": {},
   "source": [
    "### b)"
   ]
  },
  {
   "cell_type": "code",
   "execution_count": 15,
   "metadata": {},
   "outputs": [],
   "source": [
    "from mpmath import mp\n",
    "\n",
    "# Set precision to 10000 digits\n",
    "mp.dps = 10000\n",
    "\n",
    "# Get pi as string after decimal point\n",
    "pi_digits = str(mp.pi)[2:]\n",
    "\n",
    "# Apply shingles function with k = 12\n",
    "k = 12\n",
    "shingles_positions = compute_k_shingles(pi_digits, k)\n",
    "\n",
    "# Save output to text file\n",
    "with open(\"k_shingles_pi.txt\", \"w\") as f:\n",
    "    for pos in shingles_positions:\n",
    "        f.write(f\"{pos}\\n\")"
   ]
  },
  {
   "cell_type": "markdown",
   "metadata": {},
   "source": [
    "### c)"
   ]
  },
  {
   "cell_type": "code",
   "execution_count": 16,
   "metadata": {},
   "outputs": [
    {
     "name": "stdout",
     "output_type": "stream",
     "text": [
      "MinHash Signature: [11610003501, 63680740533, 107687383220, 41635782020, 203614208147]\n"
     ]
    }
   ],
   "source": [
    "import random\n",
    "\n",
    "def minhash_signature(positions, hash_functions):\n",
    "    # Initialize signature\n",
    "    signature = []\n",
    "\n",
    "    # Iterate over hash functions\n",
    "    for a, b, p in hash_functions:\n",
    "        min_hash = float(\"inf\")\n",
    "        # Compute hash value for each position and track the minimum\n",
    "        for pos in positions:\n",
    "            hash_value = ((a * pos + b) % p) % (10**15)\n",
    "            min_hash = min(min_hash, hash_value)\n",
    "        signature.append(min_hash)\n",
    "    return signature\n",
    "\n",
    "def generate_hash_functions():\n",
    "    hash_functions = []\n",
    "    # First hash function\n",
    "    hash_functions.append((37, 126, 10**15 + 223))\n",
    "    \n",
    "    # Generate 4 additional hash functions\n",
    "    for i in [37, 91, 159, 187]:\n",
    "        a = random.randint(0, 10**12)\n",
    "        b = random.randint(0, 10**12)\n",
    "        p = 10**15 + i\n",
    "        hash_functions.append((a, b, p))\n",
    "    \n",
    "    return hash_functions\n",
    "\n",
    "\n",
    "# Generate hash functions\n",
    "hash_functions = generate_hash_functions()\n",
    "\n",
    "# Compute MinHash signature\n",
    "signature = minhash_signature(shingles_positions, hash_functions)\n",
    "\n",
    "# Output the MinHash signature\n",
    "print(\"MinHash Signature:\", signature)\n"
   ]
  }
 ],
 "metadata": {
  "kernelspec": {
   "display_name": "Python 3",
   "language": "python",
   "name": "python3"
  },
  "language_info": {
   "codemirror_mode": {
    "name": "ipython",
    "version": 3
   },
   "file_extension": ".py",
   "mimetype": "text/x-python",
   "name": "python",
   "nbconvert_exporter": "python",
   "pygments_lexer": "ipython3",
   "version": "3.12.0"
  }
 },
 "nbformat": 4,
 "nbformat_minor": 2
}
