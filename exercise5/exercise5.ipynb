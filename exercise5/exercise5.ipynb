{
 "cells": [
  {
   "cell_type": "markdown",
   "metadata": {},
   "source": [
    "# Mining Massive Datasets Problem Set 5\n",
    "\n",
    "Ruben Hartenstein, Taha Erkoc"
   ]
  },
  {
   "cell_type": "markdown",
   "metadata": {},
   "source": [
    "# Exercise 1"
   ]
  },
  {
   "cell_type": "markdown",
   "metadata": {},
   "source": [
    "When two different keys hash to the same index in a hash table, we have a hash collision. There are several common mechanisms that are used to resolve hash collisions:\n",
    "\n",
    "1. Chaining:\n",
    "Each index inside the hash table stores a linked list of all keys that hash to that index. If a collision occurs, the key-value pair is added to the linked list at that index.\n",
    "\n",
    "2. Open Adressing:\n",
    "If a collision occurs, an algorithm probes the hash table for the next available slot (e.g. using linear where it checks the next slot sequentially or quadratic probing where quadratic offsets are used to find the next slot). Unlike in chaining, there is no additional memory needed for linked lists, even though the overall performance can suffer when the table becomes densely populated.\n",
    "\n",
    "3. Open Hashing (Separate Hash Tables):\n",
    "Each index inside the hash table stores its own hash table to resolve collisions. This can reduce clustering issues but leads to increased memory usage.\n",
    "\n",
    "\n",
    "C++, Java and Python all have their own ways to resolve hash collisions.\n",
    "\n",
    "- C++ (Standard Template Library `std::unordered_map`): Chaining, it uses a bucket array where each bucket contains a linked list or dynamic array of the key-value pairs. Whenever a hash collision occurs, the new key-value pair is added to the bucket corresponding to the hash value. If the load factor (number of elements / number of buckets) surpasses a certain threshold (usually 1), the hash table doubles the size of the bucket arrays and rehashes all its elements.\n",
    "\n",
    "- Java (`HashMap`): Chaining with Dynamic Resizing, also uses a bucket array where each bucket initially contains a linked list of the key-value pairs. When the number of entries in the bucket surpasses a certain threshold, the linked list in a bucket is converted to a binary search tree for better performance.\n",
    "Again, after a certain load factor is exceeded, the hash table resizes and all entries are rehashed.\n",
    "\n",
    "- Python(`dict`): Open adressing with quadratic probing, when a collision occurs, it probes subsequent slots using a quadratic sequence until an empty slot is found or the key is located. Python dictionaries dynamically resize when the table reaches 2/3 of its capacity to maintain performance and ensure that space remains available for probes. During the resizing, all keys are rehashed into the new table.\n",
    "\n"
   ]
  },
  {
   "cell_type": "markdown",
   "metadata": {},
   "source": [
    "# Exercise 2"
   ]
  },
  {
   "cell_type": "markdown",
   "metadata": {},
   "source": [
    "### SHA-256 (Secure Hash Algorithm 256-bit)\n",
    "- Converts input data into a fixed-length 256-bit hash.\n",
    "- Commonly used in cryptographic applications like digital signatures and password storage.\n",
    "### MD5 (Message Digest Algorithm 5)\n",
    "- Produces a 128-bit hash value.\n",
    "- Historically used for password hashing but is now considered insecure against brute-force and collision attacks.\n",
    "\n",
    "### Connection of Hash Functions to Password Security\n",
    "Hash functions are vital for securely storing passwords because:\n",
    "1. They transform as password into a fixed-size hash, making the original password irrecoverable.\n",
    "2. Good hash functions are designed to be:\n",
    "    - __Deterministic__: Same input always produces the same output:\n",
    "    - __Non-reversible__: It's computationally infeasible to derive the original input from the hash.\n",
    "    - __Collision-resistant__: Different inputs should produce unique hashes.\n",
    "\n",
    "However, if basic hash functions (like unsalted MD5 or SHA-1) are used without additional security measures, they bacome vulnerable to rainbow table attacks.\n",
    "\n",
    "### Rainbow Table\n",
    "A rainbow table is a precomputed table of hashes for a large set of possible passwords. It is used to reverse-engineer hashed passwords by looking up their hash values:\n",
    "- Trade-off: Reduces computational cost of cracking hashes by using storage space.\n",
    "- Threat: Enables attackers to match hash values quickly to their plaintext equivalents, especially for commonly used passwords.\n",
    "\n",
    "### Salt\n",
    "Salt is a random string of data added to a password before hashing it. Its purpose is to:\n",
    "1. Ensure that even if two users have the same password, their hashes will be unique.\n",
    "2. Defeat precomputed rainbow tables, as the salt must also be known to match the hash."
   ]
  },
  {
   "cell_type": "markdown",
   "metadata": {},
   "source": [
    "# Exercise 3"
   ]
  },
  {
   "cell_type": "markdown",
   "metadata": {},
   "source": [
    "### Internal Data Structure\n",
    "1.  Buckets\n",
    "    -   The HashMap uses an array (`Node<K,V>[] table`) to store key-value pairs. Each element in the array represents a bucket.\n",
    "2.  Node Class\n",
    "    -   Each bucket contains a `Node` object that stores:\n",
    "        -   `key`: The key of the mapping.\n",
    "        -   `value`: The associated value.\n",
    "        -   `hash`: The hash code of the key.\n",
    "        -   `next`: A reference to the next node in the bucket (for collision handling via chaining).\n",
    "3.  Tree Nodes\n",
    "    -   If the number of entries in a bucket exceeds the `TREEIFY_THRESHOLD` (8 by default) the bucket switches to a tree structure (red-black tree). This improves the efficiency of operations from $O(n)$ to $O(log(n))$.\n",
    "### Adding a `<Key, Value>` Pair\n",
    "1. Hash Computation\n",
    "    -   A key's hash code is computed using `hash(key)` which applies a transformation to reduce collisions.\n",
    "2. Bucket Index\n",
    "    - The bucket index is calculated using `index = (hash & (table.length - 1))`.\n",
    "3.  Collision Handling:\n",
    "    -   If the bucket at the computed index is empty, a new node is placed directly.\n",
    "    -   If the bucket already has entries:\n",
    "        - The chain of nodes is traversed using `Node.next` to find an existing key or reach the end.\n",
    "        -   If the key exists (determined using `equals()`), its value is updated.\n",
    "        -   Otherwise, a new node is appended at the end of the chain.\n",
    "    -   If the chain lenght exceeds `TREEIFY_THRESHOLD`, the chain is converted into a red-black tree.\n",
    "4. Rehashing\n",
    "    -   If the number of entries exceeds the threshold (capacity * load factor), the table is resized (doubled), and the entries are rehashed to redistribute them across the new buckets.\n",
    "### Retrieving an Entry\n",
    "1. Hash Computation and Index Lookup:\n",
    "    -   The key's hash is computed, and the bucket index is determined.\n",
    "2. Bucket Traversal:\n",
    "    -   The bucket at the computed index is traversed:\n",
    "        - If the bucket is a linked list, the nodes are scanned sequentially, comparing the key using `equals()`\n",
    "        - If the bucket is a tree, a tree search is performed based on the key's hash and order (if keys are comparable).\n",
    "3. Return Value:\n",
    "    - If a matching key is found, its value is returned.\n",
    "    - If no match is found `null` is returned.\n"
   ]
  },
  {
   "cell_type": "markdown",
   "metadata": {},
   "source": [
    "# Exercise 4"
   ]
  },
  {
   "cell_type": "markdown",
   "metadata": {},
   "source": [
    "1. MurmurHash3:\n",
    "    -   Description: A non-cryptographic hash function that provides high-quality, uniformly distributed hash values.\n",
    "    - Justification: MurmurHash3 is widely used for its speed and high-quality hash distribution. It provides good mixing properties and is robust against clustering, making it ideal for Bloom filters.\n",
    "2. FNV-1a (Fowler-Noll-Vo):\n",
    "    -   Description: A lightweight hash function that sues a prime multiplier for dispersion and processes input byte-by-byte.\n",
    "    - Justification: FNV-1a is simple, fast and produces distinct hash values due to its unique multiplier. Its design complements MurmurHash3 in terms of computation and output.\n",
    "3. CityHash:\n",
    "    -   Description: A hash function designed by Google for fast processing of strings, optimized for low-latency applications.\n",
    "    - Justification: CityHash offers a good tradeoff between speed and uniformity of hash values. Its implementation uses techniques like hashing chunks of data efficiently, which differ significantly from MurmurHash3 and FNV-1a.\n",
    "\n",
    "Each hash function employs distinct approaches for combining and distributing input data (bit-mixing, prime-based linear methods and block hashing). Their differing internal designs minimize the likelihood of correlated outputs for similar inputs and therefore reducing false positives. "
   ]
  },
  {
   "cell_type": "markdown",
   "metadata": {},
   "source": [
    "# Exercise 5"
   ]
  },
  {
   "cell_type": "markdown",
   "metadata": {},
   "source": [
    "### a)\n",
    "The probability formula for a random element hashing to a specific bit in the Bloom filter is: $P(hit) = \\frac{1}{n}$\n",
    "\n",
    "Where $n = 5$ (number of bits in the array). Thus, the probability that a random element gets hashed to a given bit is: $P(hit) = \\frac{1}{5} = 20\\%$.\n",
    "\n",
    "This probability arises because each bit in the bit array is equally likely to be chosen by the hash function of a random element, assuming the hash function distributes values uniformly."
   ]
  },
  {
   "cell_type": "markdown",
   "metadata": {},
   "source": [
    "### b)\n",
    "$h_1(x) = x\\ mod\\ 5$<br>\n",
    "$h_2(x) = (2x + 3)\\ mod\\ 5$\n",
    "\n",
    "\n",
    "For $x = 4$:\n",
    "\n",
    "\n",
    "$h_1(4) = 4\\ mod\\ 5 = 4$<br>\n",
    "$h_2(4) = 11\\ mod\\ 5 = 1$<br>\n",
    "\n",
    "|  0   |  1   |  2   |  3   |  4   |\n",
    "|-----|-----|-----|-----|-----|\n",
    "| 0 | 1 | 0 | 0 | 1 |\n",
    "\n",
    "\n",
    "For $x = 1$:\n",
    "\n",
    "\n",
    "$h_1(4) = 1\\ mod\\ 5 = 1$<br>\n",
    "$h_2(4) = 5\\ mod\\ 5 = 0$<br>\n",
    "\n",
    "|  0   |  1   |  2   |  3   |  4   |\n",
    "|-----|-----|-----|-----|-----|\n",
    "| 1 | 1 | 0 | 0 | 1 |\n",
    "\n",
    "Every bit is equally likely to be hit by the two hash functions if the input values are uniformly distributed.\n",
    "- $h_1(x)$ simply maps $x$ to its remainder when divided by 5. Since it cylcles through all possible values as $x$ increases, it uniformly distributes across the 5 bits if $x$ itself is uniformly distributed.\n",
    "- $h_2(x)$ also distributes the values uniformly since the GCD of 2 and 5 is 1 (2 is relatively prime to 5 since they're both prime numbers). This property ensures that the mapping $2x\\ mod\\ 5$ generates a complete cycle over all residues before repeating. Adding 3 doesn't change the uniformity but merely shifts the sequence cyclically.\n"
   ]
  },
  {
   "cell_type": "markdown",
   "metadata": {},
   "source": [
    "### c)\n",
    "$P_{false\\ positive} = (1 - e^{-\\frac{k*n}{m}})^k$\n",
    "\n",
    "Where:\n",
    "- $k = 2$ (number of hash functions)\n",
    "- $n = 2$ (number of elements inserted)\n",
    "- $m = 5$ (size of the bit array)\n",
    "\n",
    "The fraction of 1s in the bit array is determined by $1 - e^{-\\frac{k*n}{m}} = 0,551$. Thus, approximaltey $55,1\\%$ of the bits are expected to be set, resulting in a $P_{false\\ positive} = (0,551)^2 = 0,304$.\n",
    "\n",
    "The false positive probability is approximatley $30,4\\%$. This means that for any random number checked against the Bloom filter, there is about a $30,4\\%$ chance it will falsely appear to be in the set."
   ]
  },
  {
   "cell_type": "markdown",
   "metadata": {},
   "source": [
    "# Exercise 6"
   ]
  },
  {
   "cell_type": "markdown",
   "metadata": {},
   "source": [
    "### a)\n",
    "\n",
    "The optimal number of hash functions $k$ is given by\n",
    "\n",
    "$k = \\frac{n}{m} * ln(2)$\n",
    "\n",
    "Where:\n",
    "\n",
    "- $n$: size of the bit array\n",
    "- $m$: number of elements in the set\n",
    "\n",
    "Now we plot the values for $n = m, 2m, ..., 20m$"
   ]
  },
  {
   "cell_type": "code",
   "execution_count": 3,
   "metadata": {},
   "outputs": [
    {
     "data": {
      "image/png": "[encoded data removed]",
      "text/plain": [
       "<Figure size 800x500 with 1 Axes>"
      ]
     },
     "metadata": {},
     "output_type": "display_data"
    }
   ],
   "source": [
    "import numpy as np\n",
    "import matplotlib.pyplot as plt\n",
    "\n",
    "m = 1000  # Number of elements in the set\n",
    "\n",
    "# Generate values for n: n = m, 2m, ..., 20m\n",
    "n_values = np.arange(m, 21 * m, m)\n",
    "\n",
    "# Compute k for each n using the formula: k = (n / m) * ln(2)\n",
    "k = (n_values / m) * np.log(2)\n",
    "\n",
    "# Plot the results\n",
    "plt.figure(figsize=(8, 5))\n",
    "plt.plot(n_values, k, marker='o', linestyle='-', color='orange', label='Optimal k')\n",
    "plt.title('Optimal Number of Hash Functions (k) vs. Bit Array Size (n)')\n",
    "plt.xlabel('Size of Bit Array (n)')\n",
    "plt.ylabel('Optimal Number of Hash Functions (k)')\n",
    "plt.grid(True)\n",
    "plt.legend()\n",
    "plt.show()"
   ]
  },
  {
   "cell_type": "markdown",
   "metadata": {},
   "source": [
    "The optimal $k$ increases linearly with $n$, as expected"
   ]
  },
  {
   "cell_type": "markdown",
   "metadata": {},
   "source": [
    "### b)\n",
    "\n",
    "The formula to calculate the false-positive probability is $P_{false\\ positive} = (1 - e^{-\\frac{k*m}{n}})^k$, which we bound by $b$\n",
    "\n",
    "\n",
    "\n",
    "From __a)__ we know that $k = \\frac{n}{m} * ln(2)$. If we insert $k$ into the above formula, we get:\n",
    "\n",
    "$b = \\left(1 - e^{-\\ln(2)}\\right)^{\\frac{n}{m} \\ln(2)}$\n",
    "\n",
    "Since $1 - e^{-\\ln(2)} \\approx 0.5$:\n",
    "\n",
    "$b = 0.5^{\\frac{n}{m} \\ln(2)}$\n",
    "\n",
    "<br />\n",
    "\n",
    "Solving the formula for $n$, we receive:\n",
    "\n",
    "\n",
    "$n = m * \\frac{\\ln(b)}{\\ln(0.5) * \\ln(2)}$\n",
    "\n",
    "<br />\n",
    "\n",
    "Now calculate $n$ ($k$) for $b_1$, $b_2$ and $b_3$\n",
    "\n",
    "$b_1 = 0.01$: \n",
    "\n",
    "$n \\approx 9585$, $k = 7$\n",
    "\n",
    "Calculating back $b$ with $n$ and $k$ gives us $b \\approx 0.01$\n",
    "\n",
    "<br />\n",
    "\n",
    "$b_2 = 0.005$: \n",
    "\n",
    "$n \\approx 11028$, $k = 8$\n",
    "\n",
    "Calculating back $b$ with $n$ and $k$ gives us $b \\approx 0.005$\n",
    "\n",
    "<br />\n",
    "\n",
    "$b_3 = 0.001$: \n",
    "\n",
    "$n \\approx 14378$, $k = 10$\n",
    "\n",
    "Calculating back $b$ with $n$ and $k$ gives us $b \\approx 0.001$\n",
    "\n",
    "<br />\n",
    "\n",
    "The formula doesn't require the exact value of $m$, as the ratio $\\frac{n}{𝑚}$ is all that matters."
   ]
  },
  {
   "cell_type": "markdown",
   "metadata": {},
   "source": [
    "# Exercise 7"
   ]
  },
  {
   "cell_type": "markdown",
   "metadata": {},
   "source": [
    "For a Bloom filter, the false positive probability $b$ is given by:\n",
    "\n",
    "$b = (1 - e^{-\\frac{k*m}{n}})^k$\n",
    "\n",
    "We now want to find $k$ such that it minimizes $b$, which means we minimize $b$ with respect to $k$.\n",
    "\n",
    "\n",
    "To do that, we first, take the natural logarithm\n",
    "\n",
    "$\\ln(b) = k * \\ln(1 - e^{-\\frac{k*m}{n}})$\n",
    "\n",
    "Now we differentiate $\\ln(b)$ with respect to $k$\n",
    "\n",
    "<br />\n",
    "\n",
    "$\\frac{d}{dk}\\ln(b) = \\ln(1 - e^{-\\frac{k*m}{n}}) + k * \\frac{1}{1 - e^{-\\frac{k*m}{n}}} * (-\\frac{m}{n} * e^{-\\frac{k*m}{n}})$\n",
    "\n",
    "<br />\n",
    "\n",
    "By setting this derivative to 0 and solving numerically/anatically, the optimal $k$ becomes:\n",
    "\n",
    "$k = \\frac{n}{m} * ln(2)$\n",
    "\n",
    "This $k$ minimizes collisions while maximizing the effective use of bits."
   ]
  },
  {
   "cell_type": "markdown",
   "metadata": {},
   "source": [
    "# Exercise 8"
   ]
  },
  {
   "cell_type": "markdown",
   "metadata": {},
   "source": [
    "The data has the schema:\n",
    "\n",
    "$Grades(university, courseID, studentID, grade)$"
   ]
  },
  {
   "cell_type": "markdown",
   "metadata": {},
   "source": [
    "### a) For each university, the average number of students in a course\n",
    "\n",
    "Key attributes = `university`, `courseID`\n",
    "\n",
    "The number of students in a course depends on the courses within each university, therefore we need to sample __universities__ and __courseID__ to ensure that all courses and students within a university are included in the sample.\n"
   ]
  },
  {
   "cell_type": "markdown",
   "metadata": {},
   "source": [
    "### b) Fraction of students, who have an average grade of 2.0 or better\n",
    "\n",
    "Key attributes = `university`, `studentID`\n",
    "\n",
    "We need to sample the students across all universities to approximate their average grade. By sampling on __studentID__ and __university__, we get a uniform sample of the students where each student is uniquely identified within the sample."
   ]
  },
  {
   "cell_type": "markdown",
   "metadata": {},
   "source": [
    "### c) Fraction of courses where at least half of the students got the grade 1.7 or better\n",
    "Key attributes = `university`, `courseID`\n",
    "\n",
    "The sampling must preserve the student to course mapping. By sampling on `courseID`, we ensure all students in a course are included in the sample."
   ]
  }
 ],
 "metadata": {
  "kernelspec": {
   "display_name": "Python 3",
   "language": "python",
   "name": "python3"
  },
  "language_info": {
   "codemirror_mode": {
    "name": "ipython",
    "version": 3
   },
   "file_extension": ".py",
   "mimetype": "text/x-python",
   "name": "python",
   "nbconvert_exporter": "python",
   "pygments_lexer": "ipython3",
   "version": "3.12.0"
  }
 },
 "nbformat": 4,
 "nbformat_minor": 2
}
