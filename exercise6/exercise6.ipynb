{
 "cells": [
  {
   "cell_type": "markdown",
   "metadata": {},
   "source": [
    "# Mining Massive Datasets Problem Set 6\n",
    "\n",
    "Ruben Hartenstein, Taha Erkoc"
   ]
  },
  {
   "cell_type": "markdown",
   "metadata": {},
   "source": [
    "# Exercise 1"
   ]
  },
  {
   "cell_type": "markdown",
   "metadata": {},
   "source": [
    "The Jaccard similarity for two sets $C_1, C_2$ is defined as:\n",
    "\n",
    "$sim(C_1, C_2) = \\frac{|C_1 \\cup C_2|}{|C_1 \\cap C_2|}$\n",
    "\n",
    "For multi-sets, where an element can be a member more than once, the definition of the intersection and union needs to account for the multiplicities of the elements.\n",
    "\n",
    "The intersection of two multi-sets $C_1, C_2$ is defined as:\n",
    "\n",
    "$(C_1 \\cap C_2)(x) = min(C_1(x), C_2(x))$\n",
    "\n",
    "where $C_1(x), C_2(x)$ represent the counts of elements x in these two sets respectively.\n",
    "\n",
    "Therefore the union of two multi-sets can also be defined:\n",
    "\n",
    "$(C_1 \\cup C_2)(x) = max(C_1(x), C_2(x))$\n",
    "\n",
    "\n",
    "Using these two definitions, we can define the Jaccard similarity for multi-sets as:\n",
    "\n",
    "$sim(C_1, C_2) = \\frac{\\sum_{x \\in C_1 \\cup C_2} min(C_1(x), C_2(x))}{\\sum_{x \\in C_1 \\cup C_2} max(C_1(x), C_2(x))}$\n",
    "\n",
    "With this definition, in the case of two sets where each element appears at most one, the formula reduced back to its original form:\n",
    "\n",
    "$sim(C_1, C_2) = \\frac{|C_1 \\cup C_2|}{|C_1 \\cap C_2|}$"
   ]
  },
  {
   "cell_type": "markdown",
   "metadata": {},
   "source": [
    "# Exercise 3"
   ]
  },
  {
   "cell_type": "markdown",
   "metadata": {},
   "source": [
    "### a)\n",
    "Hash functions\n",
    "\n",
    "$h_1(x) = (2x + 1) \\mod{6} $ <br>\n",
    "$h_2(x) = (3x + 2) \\mod{6} $ <br>\n",
    "$h_3(x) = (5x + 2) \\mod{6} $ <br>\n",
    "\n",
    "Now we compute the hash values for $x \\in \\{0,1,2,3,4,5\\}$\n",
    "\n",
    "For $h_1(x) = (2x + 1) \\mod{6} $:\n",
    "\n",
    "$h_1(0) = 1$ <br>\n",
    "$h_1(1) = 3$ <br>\n",
    "$h_1(2) = 5$ <br>\n",
    "$h_1(3) = 1$ <br>\n",
    "$h_1(4) = 3$ <br>\n",
    "$h_1(5) = 5$ <br>\n",
    "\n",
    "For $h_2(x) = (3x + 2) \\mod{6} $:\n",
    "\n",
    "$h_2(0) = 2$ <br>\n",
    "$h_2(1) = 5$ <br>\n",
    "$h_2(2) = 2$ <br>\n",
    "$h_2(3) = 5$ <br>\n",
    "$h_2(4) = 2$ <br>\n",
    "$h_2(5) = 5$ <br>\n",
    "\n",
    "For $h_3(x) = (5x + 2) \\mod{6}$:\n",
    "\n",
    "$h_3(0) = 2$ <br>\n",
    "$h_3(1) = 1$ <br>\n",
    "$h_3(2) = 0$ <br>\n",
    "$h_3(3) = 5$ <br>\n",
    "$h_3(4) = 4$ <br>\n",
    "$h_3(5) = 3$ <br>\n",
    "\n",
    "### MinHash Signature for each set:\n",
    "\n",
    "$S_1 \\{2,5\\}$ (non-zero entries in $S_1$):\n",
    "\n",
    "$h_1(2) = 5, h_1(5) = 5$, $Min = 5$<br>\n",
    "$h_2(2) = 2, h_2(5) = 5$, $Min = 2$<br>\n",
    "$h_3(2) = 0, h_3(5) = 3$, $Min = 0$<br>\n",
    "\n",
    "The same for sets $S_2,S_3,S_4$, the signature table looks like:\n",
    "\n",
    "| Set  | $h_1 Min$ | $h_2 Min$ | $h_3 Min$|\n",
    "|------|-----------|-----------|----------|\n",
    "| $S_1$| 5         | 2         | 0        |\n",
    "| $S_2$| 1         | 2         | 1        |\n",
    "| $S_3$| 1         | 2         | 4        |\n",
    "| $S_4$| 1         | 2         | 0        |\n",
    "\n",
    "\n",
    "\n",
    "\n",
    "### b)\n",
    "$h_3(x)$ is a true permutation because all hash values $\\{0,1,2,3,4,5\\}$ are distinct.\n",
    "\n",
    "Collisions:\n",
    "\n",
    "$h_1(x)$: <br>\n",
    "$h_1(0) = h_1(3) = 1$ <br>\n",
    "$h_1(1) = h_1(4) = 3$ <br>\n",
    "$h_1(2) = h_1(5) = 5$ <br>\n",
    "\n",
    "$h_2(x)$: <br>\n",
    "$h_2(0) = h_2(2) = h_2(4) = 2$ <br>\n",
    "$h_2(1) = h_2(3) = h_2(5)= 3$ <br>\n",
    "\n",
    "\n",
    "### c)\n",
    "| Pair        | MinHash Similarity | Jaccard Similarity |\n",
    "|-------------|--------------------|--------------------|\n",
    "| $S_1$,$S_2$ | 0.33               | 0                  |\n",
    "| $S_1$,$S_3$ | 0.33               | 0                  |\n",
    "| $S_1$,$S_4$ | 0.67               | 0.33               |\n",
    "| $S_2$,$S_3$ | 0.33               | 0                  |\n",
    "| $S_2$,$S_4$ | 0.67               | 0.33               |\n",
    "| $S_3$,$S_4$ | 0.33               | 0.33               |\n",
    "\n",
    "Due to the small number of hash functions we cannot see that the MinHash similarity would actually converge to the true Jaccard similarity."
   ]
  },
  {
   "cell_type": "markdown",
   "metadata": {},
   "source": [
    "# Exercise 2"
   ]
  },
  {
   "cell_type": "code",
   "execution_count": 1,
   "metadata": {},
   "outputs": [
    {
     "name": "stdout",
     "output_type": "stream",
     "text": [
      "             Hash Function                        Hashed Values  \\\n",
      "0  h1(x) = (2x + 1) mod 32      [7, 3, 9, 3, 11, 19, 5, 13, 11]   \n",
      "1  h2(x) = (3x + 7) mod 32  [16, 10, 19, 10, 22, 2, 13, 25, 22]   \n",
      "2      h3(x) = (4x) mod 32     [12, 4, 16, 4, 20, 4, 8, 24, 20]   \n",
      "\n",
      "                              Binary Representations  \\\n",
      "0  [00111, 00011, 01001, 00011, 01011, 10011, 001...   \n",
      "1  [10000, 01010, 10011, 01010, 10110, 00010, 011...   \n",
      "2  [01100, 00100, 10000, 00100, 10100, 00100, 010...   \n",
      "\n",
      "                  Tail Lengths  Max Tail Length  Estimate (Distinct Elements)  \n",
      "0  [0, 0, 0, 0, 0, 0, 0, 0, 0]                0                             1  \n",
      "1  [4, 1, 0, 1, 1, 1, 0, 0, 1]                4                            16  \n",
      "2  [2, 2, 4, 2, 2, 2, 3, 3, 2]                4                            16  \n"
     ]
    }
   ],
   "source": [
    "import pandas as pd\n",
    "# Stream of integers\n",
    "stream = [3, 1, 4, 1, 5, 9, 2, 6, 5]\n",
    "\n",
    "# Hash functions\n",
    "def h1(x):\n",
    "    return (2 * x + 1) % 32\n",
    "\n",
    "def h2(x):\n",
    "    return (3 * x + 7) % 32\n",
    "\n",
    "def h3(x):\n",
    "    return (4 * x) % 32\n",
    "\n",
    "# Function to count trailing zeros in binary\n",
    "def count_trailing_zeros(num):\n",
    "    binary = f\"{num:05b}\"  # Convert to 5-bit binary\n",
    "    return len(binary) - len(binary.rstrip('0'))  # Count trailing zeros\n",
    "\n",
    "# Process each hash function\n",
    "results = []\n",
    "hash_functions = [\n",
    "    (h1, \"h1(x) = (2x + 1) mod 32\"),\n",
    "    (h2, \"h2(x) = (3x + 7) mod 32\"),\n",
    "    (h3, \"h3(x) = (4x) mod 32\"),\n",
    "]\n",
    "\n",
    "# Iterate through hash functions\n",
    "for h_func, description in hash_functions:\n",
    "    hashed_values = [h_func(x) for x in stream]\n",
    "    tail_lengths = [count_trailing_zeros(h_func(x)) for x in stream]\n",
    "    max_tail_length = max(tail_lengths)\n",
    "    estimate = 2 ** max_tail_length\n",
    "    results.append({\n",
    "        \"Hash Function\": description,\n",
    "        \"Hashed Values\": hashed_values,\n",
    "        \"Binary Representations\": [f\"{x:05b}\" for x in hashed_values],\n",
    "        \"Tail Lengths\": tail_lengths,\n",
    "        \"Max Tail Length\": max_tail_length,\n",
    "        \"Estimate (Distinct Elements)\": estimate,\n",
    "    })\n",
    "\n",
    "# Display results\n",
    "df_results = pd.DataFrame(results)\n",
    "print(df_results)\n"
   ]
  },
  {
   "cell_type": "markdown",
   "metadata": {},
   "source": [
    "### Bonus\n",
    "\n",
    "The choice of hash functions might lead to poor distributions of hash values. For example $h_3(x) = (4x)\\mod 32$ will always produce values that are multiples of 4, which significantly reduces randomness and results in fewer unique hash values. This can lead to clustering and many collisions.\n",
    "\n",
    "An advice would be to avoid simple linear functions like $ax+b\\mod 2^k$ unless $a$ and $b$ are carefully chosen to avoid patterns. One could also consider using more advanced hash functions like MurmurHash because these tend to have way better randomness."
   ]
  },
  {
   "cell_type": "markdown",
   "metadata": {},
   "source": [
    "# Exercise 4"
   ]
  },
  {
   "cell_type": "code",
   "execution_count": 11,
   "metadata": {},
   "outputs": [
    {
     "name": "stdout",
     "output_type": "stream",
     "text": [
      "[1234, 2345, 3456, 4567]\n"
     ]
    }
   ],
   "source": [
    "def compute_k_shingles(digits, k):\n",
    "    # Set to store unique positions\n",
    "    positions = set()\n",
    "\n",
    "    # Iterate over the digits\n",
    "    for i in range(len(digits) - k + 1):\n",
    "        # Get k-shingle at current position\n",
    "        shingle = digits[i:i+k]\n",
    "        # Convert to integer and add to set\n",
    "        positions.add(int(shingle))\n",
    "\n",
    "    # Return ordered list of unique positions\n",
    "    return sorted(positions)\n",
    "\n",
    "# Test function with example\n",
    "test_example = \"1234567\"\n",
    "k = 4\n",
    "shingles = compute_k_shingles(test_example, k)\n",
    "print(shingles)  # Expected: [1234, 2345, 3456, 4567]"
   ]
  },
  {
   "cell_type": "markdown",
   "metadata": {},
   "source": [
    "### b)"
   ]
  },
  {
   "cell_type": "code",
   "execution_count": null,
   "metadata": {},
   "outputs": [],
   "source": [
    "from mpmath import mp\n",
    "\n",
    "# Set precision to 10000 digits\n",
    "mp.dps = 10000\n",
    "\n",
    "# Get pi as string after decimal point\n",
    "pi_digits = str(mp.pi)[2:]\n",
    "\n",
    "# Apply shingles function with k = 12\n",
    "k = 12\n",
    "shingles_positions = compute_k_shingles(pi_digits, k)\n",
    "\n",
    "# Save output to text file\n",
    "with open(\"k_shingles_pi.txt\", \"w\") as f:\n",
    "    for pos in shingles_positions:\n",
    "        f.write(f\"{pos}\\n\")"
   ]
  },
  {
   "cell_type": "markdown",
   "metadata": {},
   "source": [
    "### c)"
   ]
  },
  {
   "cell_type": "code",
   "execution_count": null,
   "metadata": {},
   "outputs": [
    {
     "name": "stdout",
     "output_type": "stream",
     "text": [
      "MinHash Signature: [11610003501, 54862297882, 26611768318, 3324423771, 36766341956]\n"
     ]
    }
   ],
   "source": [
    "import random\n",
    "\n",
    "def minhash_signature(positions, hash_functions):\n",
    "    # Initialize signature\n",
    "    signature = []\n",
    "\n",
    "    # Iterate over hash functions\n",
    "    for a, b, p in hash_functions:\n",
    "        min_hash = float(\"inf\")\n",
    "        # Compute hash value for each position and track the minimum\n",
    "        for pos in positions:\n",
    "            hash_value = ((a * pos + b) % p) % (10**15)\n",
    "            min_hash = min(min_hash, hash_value)\n",
    "        signature.append(min_hash)\n",
    "    return signature\n",
    "\n",
    "def generate_hash_functions():\n",
    "    hash_functions = []\n",
    "    # First hash function\n",
    "    hash_functions.append((37, 126, 10**15 + 223))\n",
    "    \n",
    "    # Generate 4 additional hash functions\n",
    "    for i in [37, 91, 159, 187]:\n",
    "        a = random.randint(0, 10**12)\n",
    "        b = random.randint(0, 10**12)\n",
    "        p = 10**15 + i\n",
    "        hash_functions.append((a, b, p))\n",
    "    \n",
    "    return hash_functions\n",
    "\n",
    "\n",
    "# Generate hash functions\n",
    "hash_functions = generate_hash_functions()\n",
    "\n",
    "# Compute MinHash signature\n",
    "signature = minhash_signature(shingles_positions, hash_functions)\n",
    "\n",
    "# Output the MinHash signature\n",
    "print(\"MinHash Signature:\", signature)\n"
   ]
  }
 ],
 "metadata": {
  "kernelspec": {
   "display_name": "Python 3",
   "language": "python",
   "name": "python3"
  },
  "language_info": {
   "codemirror_mode": {
    "name": "ipython",
    "version": 3
   },
   "file_extension": ".py",
   "mimetype": "text/x-python",
   "name": "python",
   "nbconvert_exporter": "python",
   "pygments_lexer": "ipython3",
   "version": "3.12.0"
  }
 },
 "nbformat": 4,
 "nbformat_minor": 2
}
