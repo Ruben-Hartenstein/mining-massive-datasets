{
 "cells": [
  {
   "cell_type": "markdown",
   "metadata": {},
   "source": [
    "# Mining Massive Datasets Problem Set 10\n",
    "\n",
    "Ruben Hartenstein, Taha Erkoc"
   ]
  },
  {
   "cell_type": "markdown",
   "metadata": {},
   "source": [
    "# Exercise 1\n",
    "\n",
    "### a) Advantage and Disadvantage of a Smaller Damping factor β\n",
    "\n",
    "*\"This means Google can dictate the rate of convergence according to how small α is chosen to be. Consequently, Google engineers are forced to perform a delicate balancing act. The smaller α is, the faster the convergence, but the smaller α is, the less the true hyperlink structure of the web is used to determine web page importance. And slightly different values for α can produce very different PageRanks. Moreover, as α → 1, not only does convergence slow drastically, but sensitivity issues begin to surface as well\" (Section 5.1 Rate of Convergence)*\n",
    "\n",
    "A smaller damping factor results in faster convergence of the power iteration method. This is because the subdominant eigenvalue of the matrix scales with $\\beta$ and a smaller $\\beta$ leads to fewer iterations needed to compute the PageRank vector. This is crucial when working with extremely large matrices such as those encountered in web-scale computations. However, a smaller damping factor also reduces the influence of the actual hyperlink structure of the web, meaning that rankings rely less on the link connectivity rather than the teleportation component, thus making rankings less reflective of the \"real\" importance of web pages.\n",
    "\n",
    "\n",
    "### b) Reducing Iterations by Adjusting Tolerance\n",
    "*\"Thus, a rough estimate of the number of iterations needed to converge to a tolerance level τ (measured by the residual,\n",
    "$x^{(k)T} P − x^{(k)T} = x^{(k+1)T} − x^{(k)T}$)is $\\frac{\\log 10τ}{\\log 10α}$\" (Section 5.1 Rate of Convergence)*\n",
    "\n",
    "The relationship between the number of iterations (k) and tolerance is shown by:\n",
    "\n",
    "$k = \\frac{\\log (τ)}{\\log (α)}$\n",
    "\n",
    "or\n",
    "\n",
    "$$\n",
    "k = \\frac{\\log(\\tau)}{\\log(\\lambda_2)}\n",
    "$$\n",
    "\n",
    "where:\n",
    "- $\\tau$ is the fixed tolerance level,\n",
    "- $\\lambda_2 = \\beta \\cdot \\lambda_2(M)$, the second-largest (subdominant) eigenvalue,\n",
    "- $\\beta$ is the damping factor (called α in the paper).\n",
    "\n",
    "\n",
    "To reduce the number of iterations to 100, we need to reduce the dampening factor $\\beta$\n",
    "\n",
    "\n",
    "$\\frac{k_{old}}{k_{new}} = \\frac{\\log(\\lambda_{2, old})}{\\log(\\lambda_{2, new})}$\n",
    "\n",
    "Substituting the values:\n",
    "\n",
    "$$\n",
    "\\frac{1000}{100} = \\frac{\\log(\\lambda_{2, \\text{old}})}{\\log(\\lambda_{2, \\text{new}})}.\n",
    "$$\n",
    "\n",
    "Since $\\lambda_2 = \\beta \\cdot \\lambda_2(M)$:\n",
    "\n",
    "$$\n",
    "\\log(\\beta_{\\text{old}} \\cdot \\lambda_2(M)) = 10 \\cdot \\log(\\beta_{\\text{new}} \\cdot \\lambda_2(M)).\n",
    "$$\n",
    "\n",
    "Simplify by canceling $\\log(\\lambda_2(M))$:\n",
    "\n",
    "$$\n",
    "\\log(\\beta_{\\text{old}}) = 10 \\cdot \\log(\\beta_{\\text{new}})\n",
    "$$\n",
    "\n",
    "Solving for $\\beta_{\\text{new}}$:\n",
    "\n",
    "$$\n",
    "\\beta_{\\text{old}} = (\\beta_{\\text{new}})^{10}.\n",
    "$$\n",
    "\n",
    "Take the 10th root:\n",
    "\n",
    "$$\n",
    "\\beta_{\\text{new}} = (\\beta_{\\text{old}})^{1/10}.\n",
    "$$\n",
    "\n",
    "#### Example:\n",
    "For $\\beta_{\\text{old}} = 0.85$:\n",
    "\n",
    "$$\n",
    "\\beta_{\\text{new}} = (0.85)^{1/10} \\approx 0.984.\n",
    "$$\n",
    "\n",
    "\n",
    "### c) Teleports and Adjustments to the Google Matrix\n",
    "*\"One of the first modifications to the basic PageRank model suggested by its founders was a change to the teleportation matrix $E$. Rather than using $\\frac{1}{n}ee^T$, they used $ev^T$,where $v^T > 0$ is a probability vector called the personalization\n",
    "or teleportation vector. Since $v^T$ is a probability vector with positive elements,\n",
    "every node is still directly connected to every other node, thus, $P$ is irreducible.\n",
    "Using $v^T$ in place of $\\frac{1}{n}e^T$ means that the teleportation probabilities are no longer uniformly distributed. Instead, each time a surfer teleports, he or she follows the probability distribution given in $v^T$ to jump to the next page(...)To produce a PageRank that is personalized for a particular user, only the constant vector $v^T$ added at each iteration must be modified\" (Section 6.2)*\n",
    "\n",
    "One way Google exploits this is for __spam reduction__: by altering the teleportation vector, Google can penalize pages associated with link farms or spam, reducing their PageRank and overall influence in the ranking.\n",
    "\n",
    "\n",
    "They also planned to use this for __personalization__, with vector $v^T$ allowing for different PageRank vectors to be tailored to different user preferences or categories, such as sports or news."
   ]
  },
  {
   "cell_type": "markdown",
   "metadata": {},
   "source": [
    "# Exercise 2"
   ]
  },
  {
   "cell_type": "markdown",
   "metadata": {},
   "source": [
    "### a)\n",
    "\n",
    "In a clique, every node is connected to every other node which means that all nodes have the same in- and out-degree. Thus each node contributes and receives the same fraction of its PageRank. This symmetric structure allows for the flow of the PageRank to be uniform across all nodes in the clique.\n",
    "\n",
    "### b)\n",
    "\n",
    "The general form of matrix A is as follows:\n",
    "\n",
    "$A = \\beta * M + (1-\\beta) * [\\frac{1}{N}]_{NXN}$\n",
    "\n",
    "When a node is a dead-end (has no outgoing links), its corresponding column in $M$ contains all zeros. To make $M$ a valid stochastic matrix, we replace the entire column of the dead-end nodes with $1/N$, saying there is a uniform probability to any other node. Doing this our matrix $M$ remains column-stochastic (each column sums up to $1$) and random teleport links are followed with a probability $1.0$ from dead-ends.\n",
    "\n",
    "With this approach, the teleportation is already incorperated in our new matrix $M$ and our teleportation matrix $(1-\\beta) * [\\frac{1}{N}]_{NXN}$ no longer needs to adress the dead-end issue. It only serves as a random jump mechanism across all nodes.\n",
    "\n",
    "### c) (in the PDF)\n",
    "\n",
    "\n",
    "### d)\n",
    "\n",
    "With random teleports we give the surfer a probability of $1 - \\beta$ of jumping to a random page outside the spider trap rather than following links within the trap. This prevents the pagerank score from being permanently trapped.\n",
    "\n",
    "For Dead-ends, with random teleports a surfer at a dead-end is assumed to teleport to any other page in the graph with an equal probability of $1/N$. For our formula this means that we replace the dead-end column in $M$ with uniform probabilities $1/N$, restoring the column-stochastic property. This ensures our matrix $M$ remanins valid for the PageRank calculation the algorithm converges to a meaningful result regardless of the graph structure."
   ]
  },
  {
   "cell_type": "markdown",
   "metadata": {},
   "source": [
    "# Exercise 3"
   ]
  },
  {
   "cell_type": "code",
   "execution_count": 1,
   "metadata": {},
   "outputs": [],
   "source": [
    "import numpy as np\n",
    "\n",
    "def pagerank(M, beta, epsilon):\n",
    "    \"\"\"\n",
    "    Compute the PageRank vector using the Google formulation and the Power Iteration method.\n",
    "\n",
    "    Parameters:\n",
    "        M (numpy.ndarray): The dense adjacency matrix of the graph (column-stochastic).\n",
    "        beta (float): The teleportation factor.\n",
    "        epsilon (float): The convergence threshold.\n",
    "\n",
    "    Returns:\n",
    "        numpy.ndarray: The PageRank vector.\n",
    "    \"\"\"\n",
    "    # Number of nodes in the graph\n",
    "    N = M.shape[0]\n",
    "\n",
    "    # Compute Google Matrix A\n",
    "    teleportation_matrix = np.ones((N, N)) / N\n",
    "    A = beta * M + (1 - beta) * teleportation_matrix\n",
    "\n",
    "    # Initialize PageRank vector (uniform distribution)\n",
    "    r = np.ones(N) / N\n",
    "\n",
    "    # Power Iteration Method\n",
    "    while True:\n",
    "        r_new = A @ r\n",
    "        # Check for convergence using L1 norm\n",
    "        if np.linalg.norm(r_new - r, 1) < epsilon:\n",
    "            break\n",
    "        r = r_new\n",
    "\n",
    "    return r"
   ]
  },
  {
   "cell_type": "code",
   "execution_count": 2,
   "metadata": {},
   "outputs": [
    {
     "name": "stdout",
     "output_type": "stream",
     "text": [
      "PageRank Vector: [0.23148148 0.31481481 0.4537037 ]\n"
     ]
    }
   ],
   "source": [
    "# Example matrix from exercise 1\n",
    "M = np.array([\n",
    "    [1/3, 1/2, 0],\n",
    "    [1/3, 0, 1/2],\n",
    "    [1/3, 1/2, 1/2]\n",
    "])\n",
    "\n",
    "# Parameters\n",
    "beta = 1  # Teleportation factor\n",
    "epsilon = 1/12  # Convergence threshold\n",
    "\n",
    "# Compute PageRank\n",
    "pagerank_vector = pagerank(M, beta, epsilon)\n",
    "print(\"PageRank Vector:\", pagerank_vector)"
   ]
  },
  {
   "cell_type": "code",
   "execution_count": 3,
   "metadata": {},
   "outputs": [],
   "source": [
    "def generate_clique_matrix(n):\n",
    "    \"\"\"\n",
    "    Generate the column-stochastic adjacency matrix for a clique graph with n vertices.\n",
    "\n",
    "    Parameters:\n",
    "        n (int): Number of vertices in the clique.\n",
    "\n",
    "    Returns:\n",
    "        numpy.ndarray: Column-stochastic adjacency matrix for the clique.\n",
    "    \"\"\"\n",
    "    M = np.ones((n, n))  # Fully connected graph (all entries are 1)\n",
    "    np.fill_diagonal(M, 0)  # Remove self-loops\n",
    "    M /= M.sum(axis=0)  # Normalize to make it column-stochastic\n",
    "    return M"
   ]
  },
  {
   "cell_type": "code",
   "execution_count": 4,
   "metadata": {},
   "outputs": [
    {
     "name": "stdout",
     "output_type": "stream",
     "text": [
      "PageRank Vector for M(4): [0.25 0.25 0.25 0.25]\n",
      "PageRank Vector for M(6): [0.16666667 0.16666667 0.16666667 0.16666667 0.16666667 0.16666667]\n"
     ]
    }
   ],
   "source": [
    "# Generate M(4) and M(6)\n",
    "M4 = generate_clique_matrix(4)\n",
    "M6 = generate_clique_matrix(6)\n",
    "\n",
    "# Compute PageRank vectors\n",
    "pagerank_M4 = pagerank(M4, beta, epsilon)\n",
    "pagerank_M6 = pagerank(M6, beta, epsilon)\n",
    "\n",
    "print(\"PageRank Vector for M(4):\", pagerank_M4)\n",
    "print(\"PageRank Vector for M(6):\", pagerank_M6)"
   ]
  },
  {
   "cell_type": "markdown",
   "metadata": {},
   "source": [
    "# Exercise 4"
   ]
  },
  {
   "cell_type": "code",
   "execution_count": 5,
   "metadata": {},
   "outputs": [
    {
     "name": "stdout",
     "output_type": "stream",
     "text": [
      "In-Neighbors: {6548: [1], 15409: [1], 57031: [6548], 13102: [15409], 17794: [2]}\n",
      "Out-Neighbors: {1: [6548, 15409], 6548: [57031], 15409: [13102], 2: [17794, 25202, 53625, 54582, 64930, 73764, 84477, 98628, 100193, 102355, 105318, 105730, 115926, 140864, 163550, 164599, 175799, 178642, 181714, 190453, 204189, 204604, 210870, 213966, 225119, 241596, 243294, 246897, 251658, 252915, 280935], 252915: [2]}\n"
     ]
    }
   ],
   "source": [
    "def parse_graph(file_path):\n",
    "    \"\"\"\n",
    "    Parses the Stanford web graph dataset and constructs dictionaries for in-neighbors and out-neighbors.\n",
    "    \n",
    "    Parameters:\n",
    "        file_path (str): Path to the dataset file.\n",
    "    \n",
    "    Returns:\n",
    "        dict: in_neighbors - Maps each node to a list of its in-neighbors.\n",
    "        dict: out_neighbors - Maps each node to a list of its out-neighbors.\n",
    "    \"\"\"\n",
    "    in_neighbors = {}\n",
    "    out_neighbors = {}\n",
    "\n",
    "    with open(file_path, 'r') as f:\n",
    "        for line in f:\n",
    "            # Skip comments\n",
    "            if line.startswith(\"#\"):\n",
    "                continue\n",
    "            \n",
    "            # Parse the edge\n",
    "            from_node, to_node = map(int, line.strip().split('\\t'))\n",
    "            \n",
    "            # Update out-neighbors\n",
    "            if from_node not in out_neighbors:\n",
    "                out_neighbors[from_node] = []\n",
    "            out_neighbors[from_node].append(to_node)\n",
    "            \n",
    "            # Update in-neighbors\n",
    "            if to_node not in in_neighbors:\n",
    "                in_neighbors[to_node] = []\n",
    "            in_neighbors[to_node].append(from_node)\n",
    "    \n",
    "    return in_neighbors, out_neighbors\n",
    "\n",
    "# Example usage\n",
    "file_path = 'web-Stanford_small.txt'\n",
    "in_neighbors, out_neighbors = parse_graph(file_path)\n",
    "\n",
    "# Display a portion of the data\n",
    "print(\"In-Neighbors:\", dict(list(in_neighbors.items())[:5]))\n",
    "print(\"Out-Neighbors:\", dict(list(out_neighbors.items())[:5]))\n"
   ]
  },
  {
   "cell_type": "code",
   "execution_count": 6,
   "metadata": {},
   "outputs": [
    {
     "name": "stdout",
     "output_type": "stream",
     "text": [
      "Dead-End Pages (in Removal Order): [24584, 65551, 258066, 208925, 213021, 237599, 28703, 131107, 53286, 139311, 20530, 122938, 90175, 69696, 32833, 229441, 200770, 81987, 200772, 229449, 76, 114765, 262222, 204879, 118862, 80, 127058, 127062, 86103, 82011, 91, 213089, 163941, 151653, 16492, 108, 143470, 262255, 266351, 16494, 77938, 151673, 262269, 270464, 45184, 200832, 233602, 28809, 110731, 37003, 73872, 225425, 61586, 155801, 114844, 188574, 168094, 147616, 250016, 41122, 221346, 266402, 155811, 77992, 196782, 77999, 200890, 274619, 155849, 78030, 159951, 192719, 245969, 73939, 176342, 213209, 192738, 65766, 225511, 78056, 123114, 20715, 164079, 94452, 106740, 184565, 90359, 168189, 123134, 213249, 135428, 24838, 225552, 98577, 86291, 78103, 61721, 192798, 241952, 123171, 176422, 258348, 127278, 250159, 49456, 94512, 114994, 106804, 250164, 311, 160056, 57657, 213303, 147768, 86333, 49476, 217423, 242000, 49489, 106843, 164186, 78181, 135534, 24944, 94578, 156020, 115060, 12663, 135543, 258429, 37250, 106883, 119176, 110984, 61833, 254350, 254355, 53654, 49561, 176541, 8606, 86430, 94623, 4514, 41383, 201132, 45497, 221626, 229822, 168387, 160198, 278983, 246215, 33223, 82382, 160209, 152019, 94676, 176605, 205283, 98788, 217571, 156138, 86507, 111084, 201195, 258538, 205291, 168433, 111098, 78331, 274944, 86528, 197122, 279044, 229895, 111112, 74249, 201226, 254483, 205332, 258580, 180763, 229916, 78370, 127522, 25126, 21036, 143920, 234036, 70201, 53819, 152125, 242244, 49733, 234054, 234058, 229966, 205398, 221785, 197211, 254556, 74334, 225888, 107111, 242285, 242288, 4723, 266867, 172661, 45686, 143991, 197242, 152190, 123519, 135808, 127617, 258688, 242308, 135816, 160401, 70290, 123539, 94872, 164505, 254622, 135840, 8865, 12962, 674, 66211, 21157, 250534, 131751, 111274, 193194, 185012, 258742, 699, 258750, 160449, 189122, 160454, 66246, 139976, 152264, 123593, 250572, 33486, 25300, 258774, 135896, 49886, 160481, 127715, 131813, 25320, 103147, 213740, 144109, 45807, 242416, 99059, 185075, 258809, 131834, 267010, 86788, 8964, 185092, 217864, 17161, 226058, 78600, 205581, 152337, 115474, 54036, 13081, 234266, 201501, 13085, 74525, 258848, 74529, 164644, 152357, 90918, 230181, 13096, 66345, 246568, 13102, 13105, 230194, 172852, 829, 21315, 837, 279368, 127818, 242507, 238416, 152404, 222042, 29529, 90978, 37729, 17253, 271205, 172912, 9077, 279416, 250744, 37752, 267129, 33662, 119687, 250762, 234382, 275343, 205715, 45972, 136090, 279450, 29597, 107419, 181152, 70563, 263076, 5030, 205736, 234409, 91049, 193453, 238512, 189364, 168886, 13239, 238532, 172998, 91081, 271308, 205773, 95192, 50137, 279516, 238557, 123871, 95215, 263153, 214007, 62455, 136189, 218109, 177160, 74760, 62478, 70671, 46097, 70674, 279571, 103445, 279573, 259094, 279577, 115739, 267292, 168991, 275488, 21540, 279589, 209959, 99371, 209963, 87088, 255025, 123955, 91194, 222269, 160831, 111682, 222275, 271437, 197710, 222296, 21598, 279653, 255083, 238700, 128110, 1145, 21629, 177277, 83071, 185472, 201856, 5247, 169090, 177284, 152717, 259217, 267410, 201875, 136340, 107669, 74902, 148630, 33944, 66707, 255131, 177307, 226461, 165022, 17567, 242847, 124059, 95396, 201898, 46252, 275632, 33969, 54456, 46264, 99515, 25791, 87231, 222402, 136387, 66757, 33989, 42184, 206025, 206031, 54483, 120019, 120022, 29922, 74991, 42226, 210162, 5365, 152822, 38134, 251129, 25850, 136444, 275712, 95489, 247040, 83203, 226569, 58635, 226580, 13602, 99622, 263471, 202033, 189747, 17716, 5430, 111928, 103739, 165180, 181567, 267584, 46400, 91457, 9544, 17745, 70993, 132434, 13651, 17750, 50523, 66909, 58718, 83299, 259429, 107877, 50538, 210283, 9580, 144756, 198004, 259444, 17781, 181626, 25979, 251260, 128387, 75137, 46464, 222599, 87431, 5517, 50574, 9613, 13719, 251295, 87459, 5539, 140713, 5548, 99759, 38320, 99761, 247219, 247221, 99765, 13754, 214465, 153026, 234946, 112072, 243146, 67019, 95703, 21976, 62941, 58846, 222686, 99810, 165348, 173541, 157159, 26090, 255467, 263663, 71155, 9722, 34302, 9729, 194057, 34317, 161309, 267806, 13855, 218656, 17954, 112166, 226855, 58918, 120361, 91693, 99886, 22063, 5682, 153139, 132660, 222773, 124470, 13882, 235068, 54850, 67141, 235081, 161355, 144972, 144974, 71251, 132693, 132695, 276059, 42593, 177783, 239225, 95869, 108157, 83581, 226948, 22148, 149126, 247430, 112268, 26255, 255635, 95892, 59029, 280213, 34455, 263832, 222873, 276125, 42654, 231071, 63133, 140957, 202402, 83615, 18093, 18095, 120501, 83638, 124603, 145084, 95933, 75454, 34500, 14020, 79560, 280264, 255694, 161487, 22222, 157399, 54999, 247511, 231140, 202471, 71401, 161514, 30442, 235247, 132852, 67316, 141048, 190207, 22272, 71430, 26376, 14089, 50957, 14095, 132880, 26384, 26392, 34591, 108320, 14111, 104226, 239395, 255781, 194347, 177966, 255793, 42802, 227122, 268087, 276280, 182079, 259904, 194369, 100174, 218967, 231256, 218968, 38749, 255837, 210784, 153442, 67424, 165732, 141160, 268136, 51052, 104318, 132992, 169856, 42883, 223108, 120708, 83846, 51080, 96138, 145296, 194454, 198551, 22429, 235426, 194470, 92072, 149416, 153521, 30644, 186293, 133047, 34743, 67513, 96186, 169914, 1981, 30656, 1986, 116677, 239563, 268240, 100309, 6103, 182236, 112605, 206815, 137186, 268261, 34790, 112616, 219113, 276458, 18412, 165869, 153582, 22511, 100332, 100343, 124927, 112640, 10241, 268291, 190468, 75782, 157709, 10262, 264216, 75800, 120861, 268317, 280607, 96288, 71716, 38949, 182312, 88106, 79914, 47149, 88110, 260143, 84017, 92226, 59460, 133189, 141384, 120904, 14414, 178254, 186448, 190548, 243800, 161890, 256100, 96358, 112742, 268392, 280681, 149613, 59505, 18546, 96375, 39033, 215161, 92283, 10365, 153727, 125055, 174213, 215179, 63629, 120974, 247956, 18583, 47258, 55457, 47267, 198821, 223399, 108715, 133292, 182456, 14525, 125121, 248001, 260292, 6341, 59590, 84166, 252104, 71877, 88275, 178388, 280793, 243934, 264415, 47331, 256227, 256230, 76007, 108774, 260330, 186604, 2287, 174322, 276723, 14580, 47352, 174328, 2301, 88318, 18687, 239874, 129285, 215301, 153865, 108809, 268555, 239896, 149784, 71962, 84255, 153889, 59690, 153900, 194861, 104748, 10542, 215344, 43312, 141622, 43321, 43323, 244030, 219455, 280895, 104767, 244031, 72001, 174403, 26949, 145736, 84298, 186698, 80205, 248147, 190803, 31063, 6488, 63835, 112987, 280924, 211300, 239981, 63856, 231797, 108921, 18811, 145790, 18816, 239998, 268677, 88458, 31116, 51599, 88464, 84369, 199058, 280981, 227734, 182679, 137632, 100770, 149922, 256420, 6562, 248231, 35240, 170409, 80308, 170420, 68031, 211401, 182730, 121298, 211410, 178645, 81912, 125401, 137690, 68059, 219612, 182746, 121311, 231902, 195041, 59874, 211426, 145892, 68062, 47594, 96745, 178672, 186867, 174589, 190984, 277002, 244238, 109076, 121378, 178723, 96811, 117291, 170543, 215600, 80432, 137778, 248367, 174653, 268862, 272961, 166468, 121413, 223817, 121421, 88659, 252500, 240214, 121435, 281180, 227938, 223846, 281196, 141934, 96879, 133747, 178807, 31356, 88701, 96899, 60036, 260744, 23178, 199307, 227979, 154253, 105102, 219788, 47764, 10901, 117396, 240280, 92827, 256671, 199332, 211621, 88745, 178861, 39601, 47795, 154291, 264887, 113338, 203452, 178877, 162493, 60097, 35536, 269011, 125655, 195288, 199385, 207578, 109274, 158429, 154335, 174822, 39657, 113385, 56041, 244460, 101101, 215788, 113388, 191225, 92929, 56067, 170757, 248582, 11020, 137996, 64271, 174864, 2836, 68379, 35616, 244513, 195362, 236321, 88868, 101161, 203567, 52022, 154423, 252737, 162625, 117572, 170821, 23366, 273225, 146255, 27475, 84820, 105300, 125782, 80729, 215901, 88925, 11104, 27489, 2919, 64364, 248685, 7022, 105328, 23410, 88950, 277367, 260988, 191362, 174982, 105351, 236424, 261002, 76684, 183180, 97165, 68492, 68513, 199588, 220070, 281513, 113578, 43945, 84908, 179118, 265135, 60336, 240570, 211898, 39867, 134079, 269247, 97220, 261073, 261080, 105436, 56286, 35807, 179169, 23523, 273381, 277477, 48110, 89073, 220145, 175094, 211958, 125944, 211962, 101374, 281600, 15363, 76809, 125963, 166928, 3094, 3095, 60440, 76836, 15396, 52262, 7213, 15407, 248884, 179254, 117821, 138302, 212031, 80959, 171079, 68680, 175178, 265294, 146511, 113744, 64593, 19534, 191572, 3156, 64598, 134231, 64600, 207959, 3163, 93278, 97376, 113763, 253031, 35951, 265331, 56436, 162934, 228471, 150649, 138363, 179328, 48266, 142475, 85131, 281741, 162957, 31885, 167057, 60562, 105618, 273564, 40092, 81056, 187555, 167080, 265387, 150705, 224434, 253108, 31926, 273590, 257209, 269501, 76992, 195781, 179398, 122054, 199881, 191689, 281802, 60620, 48336, 122067, 113888, 44257, 224484, 249067, 138478, 11506, 7411, 85236, 265466, 23805, 93442, 36110, 52502, 216344, 60698, 146722, 68906, 187691, 163116, 138552, 89408, 118083, 245066, 236876, 208209, 163159, 73050, 232795, 146785, 101734, 15719, 52583, 183663, 150896, 101753, 159099, 122236, 126333, 183676, 224643, 81284, 89483, 64908, 167307, 73107, 56723, 23957, 179606, 81301, 273817, 101787, 163229, 60831, 89504, 101792, 15779, 101796, 15781, 56742, 261543, 208288, 216489, 183720, 48556, 261549, 187824, 249267, 265652, 56758, 64953, 179645, 249280, 179649, 77250, 7621, 15815, 101831, 73162, 85450, 257491, 101845, 81370, 163294, 163296, 118244, 28140, 11760, 73205, 212469, 114165, 237051, 32252, 65019, 77311, 19978, 36363, 204298, 269837, 269838, 159247, 36369, 187924, 130584, 56857, 56858, 60954, 241189, 122405, 249387, 269868, 146989, 192045, 138804, 60981, 257592, 273978, 224827, 183870, 273989, 138822, 52807, 126539, 204368, 97874, 257620, 114263, 20061, 118374, 192120, 106106, 110206, 171651, 69254, 44679, 24206, 52882, 229011, 249492, 200345, 130714, 110235, 32412, 138909, 208542, 204451, 126627, 229029, 249514, 216749, 89777, 52915, 3776, 69313, 196290, 52931, 57031, 61128, 57034, 130762, 57036, 122570, 57038, 102101, 65243, 175835, 175842, 167656, 171755, 85741, 20206, 98031, 143088, 261875, 184056, 89848, 245499, 12034, 261893, 12042, 126731, 245520, 77586, 134929, 241429, 204569, 220956, 3869, 40745, 134957, 147257, 57149, 167742, 274240, 32576, 139074, 270147, 114502, 130889, 48971, 77653, 8027, 204641, 266083, 188274, 221045, 85879, 229240, 233335, 262013, 40830, 257920, 139138, 151428, 85892, 167818, 196492, 212877, 229260, 253840, 114581, 40856, 171935, 20385, 176039, 122793, 143274, 229295, 225202, 28600, 61373, 94142, 122817, 118724, 237510, 180166, 184265, 184266, 225226, 49102, 278481, 171986, 81875, 274389, 102360, 192474, 122851, 274404, 172007, 102376, 172011, 126956, 57328, 167920, 77816, 208890, 15409, 55087, 194146, 149627, 240934, 6548, 226411, 186750, 123814, 225872, 1, 74361, 32423, 96512, 35716, 266753, 203033, 271840, 229817, 208810, 206531, 109453, 121145, 72393, 37606, 3, 9, 4, 222324, 141935, 24]\n"
     ]
    }
   ],
   "source": [
    "from collections import deque\n",
    "\n",
    "def find_dead_ends(file_path):\n",
    "    \"\"\"\n",
    "    Find all dead-end pages in the graph and return their list in removal order.\n",
    "\n",
    "    Parameters:\n",
    "        file_path (str): Path to the dataset file.\n",
    "\n",
    "    Returns:\n",
    "        list: List of dead-end pages in their removal order.\n",
    "    \"\"\"\n",
    "    # Parse the graph\n",
    "    in_neighbors, out_neighbors = parse_graph(file_path)\n",
    "\n",
    "    # Initialize out-degree array\n",
    "    D = {node: len(out_neighbors.get(node, [])) for node in set(in_neighbors) | set(out_neighbors)}\n",
    "\n",
    "    # Identify initial dead-ends\n",
    "    q = deque([node for node, degree in D.items() if degree == 0])\n",
    "\n",
    "    # Recursive elimination of dead-ends\n",
    "    dead_ends = []\n",
    "    visited = set()  # To ensure nodes are processed only once\n",
    "    while q:\n",
    "        node = q.popleft()\n",
    "        if node not in visited:\n",
    "            visited.add(node)\n",
    "            dead_ends.append(node)\n",
    "            for in_neighbor in in_neighbors.get(node, []):\n",
    "                D[in_neighbor] -= 1\n",
    "                if D[in_neighbor] == 0:\n",
    "                    q.append(in_neighbor)\n",
    "\n",
    "    return dead_ends\n",
    "\n",
    "dead_ends = find_dead_ends(file_path)\n",
    "print(\"Dead-End Pages (in Removal Order):\", dead_ends)"
   ]
  },
  {
   "cell_type": "markdown",
   "metadata": {},
   "source": [
    "# Exercise 5 (in the PDF)"
   ]
  },
  {
   "cell_type": "markdown",
   "metadata": {},
   "source": [
    "# Exercise 6"
   ]
  },
  {
   "cell_type": "code",
   "execution_count": 1,
   "metadata": {},
   "outputs": [
    {
     "name": "stdout",
     "output_type": "stream",
     "text": [
      "+------------+------------------+--------------------+\n",
      "|InstanceType|ProductDescription|        AveragePrice|\n",
      "+------------+------------------+--------------------+\n",
      "|   c4.xlarge|           Windows| 0.23910000000000034|\n",
      "|    t3.micro|           Windows|0.012699999999999993|\n",
      "|  t3.2xlarge|           Windows| 0.25780000000000025|\n",
      "|  t2.2xlarge|           Windows|  0.1848999999999999|\n",
      "|  m5.4xlarge|        Linux/UNIX| 0.25776746268656775|\n",
      "|   t2.xlarge|        Linux/UNIX|  0.0614000000000001|\n",
      "| m5.12xlarge|        Linux/UNIX|  1.2112850490196077|\n",
      "|   i3.xlarge|           Windows| 0.28719999999999923|\n",
      "| x1.16xlarge|           Windows|   5.144800000000003|\n",
      "|   c5.xlarge|        Linux/UNIX| 0.05872099644128116|\n",
      "|  c5.9xlarge|        Linux/UNIX|  0.6711771978021982|\n",
      "|    t2.micro|           Windows|0.008399999999999982|\n",
      "|m5d.12xlarge|           Windows|   2.936500000000008|\n",
      "|    t2.small|        Linux/UNIX|0.007700000000000022|\n",
      "|  c5.4xlarge|           Windows|  0.9672999999999973|\n",
      "| c5.18xlarge|        Linux/UNIX|  1.0407999999999988|\n",
      "|    c4.large|           Windows| 0.11950000000000004|\n",
      "|    m5.metal|           Windows|   5.720166666666667|\n",
      "|  i3.8xlarge|        Linux/UNIX|   0.849470638297873|\n",
      "| r5.12xlarge|           Windows|   4.378440740740735|\n",
      "+------------+------------------+--------------------+\n",
      "only showing top 20 rows\n",
      "\n"
     ]
    }
   ],
   "source": [
    "from pyspark.sql import SparkSession\n",
    "from pyspark.sql.types import StructType, StructField, DoubleType, TimestampType, StringType\n",
    "\n",
    "def load_spot_instance_prices(file_name):\n",
    "    \"\"\"\n",
    "    Load a .gz file with spot instance prices into a Spark DataFrame.\n",
    "    \n",
    "    Parameters:\n",
    "        file_name (str): Path to the compressed .gz file.\n",
    "    \n",
    "    Returns:\n",
    "        pyspark.sql.DataFrame: A Spark DataFrame with the data.\n",
    "    \"\"\"\n",
    "    # Initialize SparkSession\n",
    "    spark = SparkSession.builder.appName(\"SpotInstancePricesLoader\").getOrCreate()\n",
    "    \n",
    "    # Define schema with memory-efficient data types\n",
    "    schema = StructType([\n",
    "        StructField(\"Type\", StringType(), True),  # Drop this column later\n",
    "        StructField(\"Price\", DoubleType(), True),\n",
    "        StructField(\"Timestamp\", TimestampType(), True),\n",
    "        StructField(\"InstanceType\", StringType(), True),\n",
    "        StructField(\"ProductDescription\", StringType(), True),\n",
    "        StructField(\"AvailabilityZone\", StringType(), True)\n",
    "    ])\n",
    "    \n",
    "    # Read the .gz file into a DataFrame\n",
    "    df = spark.read.csv(file_name, sep=\"\\t\", schema=schema, header=True)\n",
    "    \n",
    "    # Drop the \"Type\" column\n",
    "    df = df.drop(\"Type\")\n",
    "    \n",
    "    return df\n",
    "\n",
    "# Example usage\n",
    "# File path to test\n",
    "file_name = \"dataset-EC2-series/prices-ca-central-1-2019-05-24.txt.gz\"\n",
    "\n",
    "# Load the DataFrame\n",
    "df = load_spot_instance_prices(file_name)\n",
    "\n",
    "# Calculate the average price per combination of InstanceType and ProductDescription\n",
    "avg_prices = (\n",
    "    df.groupBy(\"InstanceType\", \"ProductDescription\")\n",
    "        .avg(\"Price\")\n",
    "        .withColumnRenamed(\"avg(Price)\", \"AveragePrice\")\n",
    ")\n",
    "\n",
    "# Show the results\n",
    "avg_prices.show()\n"
   ]
  }
 ],
 "metadata": {
  "kernelspec": {
   "display_name": "Python 3",
   "language": "python",
   "name": "python3"
  },
  "language_info": {
   "codemirror_mode": {
    "name": "ipython",
    "version": 3
   },
   "file_extension": ".py",
   "mimetype": "text/x-python",
   "name": "python",
   "nbconvert_exporter": "python",
   "pygments_lexer": "ipython3",
   "version": "3.12.0"
  }
 },
 "nbformat": 4,
 "nbformat_minor": 2
}
